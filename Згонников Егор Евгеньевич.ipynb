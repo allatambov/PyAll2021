{
 "cells": [
  {
   "cell_type": "markdown",
   "metadata": {},
   "source": [
    "# Экзаменационная работа по курсу «Программирование для всех (основы работы с Python)»\n",
    "\n",
    "*Время выполнения: 2 часа 40 минут. Выполненная работа загружается на Dropbox по ссылке, предложенной в письме преподавателем. Всего за экзамен можно получить 30 баллов. Чтобы получить оценку 4 из 10, нужно набрать не менее 12 баллов.* "
   ]
  },
  {
   "cell_type": "markdown",
   "metadata": {},
   "source": [
    "## Часть 1: базовые структуры и конструкции (11 баллов)"
   ]
  },
  {
   "cell_type": "markdown",
   "metadata": {},
   "source": [
    "### Задача 1 (1 балл)\n",
    "\n",
    "В строке `say` сохранен некоторый текст.\n",
    "Напишите код, который создает строку `polite` с тем же текстом, но с добавлением точки и «пожалуйста!» в конце.\n",
    "\n",
    "**Пример:**\n",
    "\n",
    "Значение `say`: `\"покажи мне тетрадь\"`\n",
    "\n",
    "Значение `polite`: `\"покажи мне тетрадь. пожалуйста!\"`"
   ]
  },
  {
   "cell_type": "code",
   "execution_count": null,
   "metadata": {},
   "outputs": [],
   "source": [
    "### YOUR CODE HERE ###"
   ]
  },
  {
   "cell_type": "markdown",
   "metadata": {},
   "source": [
    "### Задача 2 (1 балл)\n",
    "\n",
    "В машинном обучении существуют специальные меры, которые позволяют определить качество модели. Среди них — точность (*precision*) и полнота (*recall*) На основе этих двух значений можно посчитать ещё одну меру качества – определить их среднее арифметическое.\n",
    "\n",
    "Напишите код, который запрашивает с клавиатуры значение *precision*, затем значение *recall*, вычисляет их среднее, округляет до двух знаков после запятой и выводит результат на экран.\n",
    "\n",
    "**Пример:**\n",
    "\n",
    "*На входе:*\n",
    "\n",
    "    Precision: 0.9\n",
    "    Recall: 0.85\n",
    "\n",
    "*На выходе:*\n",
    "\n",
    "    Average: 0.88"
   ]
  },
  {
   "cell_type": "code",
   "execution_count": null,
   "metadata": {},
   "outputs": [],
   "source": [
    "### YOUR CODE HERE ###"
   ]
  },
  {
   "cell_type": "markdown",
   "metadata": {},
   "source": [
    "### Задача 3 (2 балла)\n",
    "\n",
    "При проверке, являются ли числовые данные сфальсифицированными, часто обращают внимание на количество чисел, которые делятся на 5 или 10 без остатка, так как считается, что люди склонны выдумывать именно такие числа. Дан список `V` с процентами голосов за кандидата А на студенческих выборах:"
   ]
  },
  {
   "cell_type": "code",
   "execution_count": null,
   "metadata": {},
   "outputs": [],
   "source": [
    "V = [25, 56, 44, 50, 44, 47, 38, 45, 56]"
   ]
  },
  {
   "cell_type": "markdown",
   "metadata": {},
   "source": [
    "a. (1 балл) Напишите код, который сохраняет в новый список `strange` индексы элементов, которые делятся на 5 без остатка."
   ]
  },
  {
   "cell_type": "code",
   "execution_count": null,
   "metadata": {},
   "outputs": [],
   "source": [
    "### YOUR CODE HERE ###"
   ]
  },
  {
   "cell_type": "markdown",
   "metadata": {},
   "source": [
    "b. (1 балл) Напишите код, который выводит на экран процент значений в списке `V`, которые делятся на 5 без остатка."
   ]
  },
  {
   "cell_type": "code",
   "execution_count": null,
   "metadata": {},
   "outputs": [],
   "source": [
    "### YOUR CODE HERE ###"
   ]
  },
  {
   "cell_type": "markdown",
   "metadata": {},
   "source": [
    "### Задача 4 (1 балл)\n",
    "\n",
    "В словаре `D` сохранены пары целых чисел таким образом, что первое число в паре является ключом, а второе – значением."
   ]
  },
  {
   "cell_type": "code",
   "execution_count": null,
   "metadata": {},
   "outputs": [],
   "source": [
    "D = {2:3, 4:5, 5:7, 6:8, 9:0}"
   ]
  },
  {
   "cell_type": "markdown",
   "metadata": {},
   "source": [
    "Напишите код, который выводит на экран разности пар целых чисел. Вид итоговой выдачи:\n",
    "\n",
    "    -1\n",
    "    -1\n",
    "    -2\n",
    "    -2\n",
    "    9"
   ]
  },
  {
   "cell_type": "code",
   "execution_count": null,
   "metadata": {},
   "outputs": [],
   "source": [
    "### YOUR CODE HERE ###"
   ]
  },
  {
   "cell_type": "markdown",
   "metadata": {},
   "source": [
    "### Задача 5 (2 балла)\n",
    "\n",
    "В списке `stud` сохранены имена студентов, которых собираются отправить на конкурс. В словаре `marks` сохранены оценки всех студентов в группе."
   ]
  },
  {
   "cell_type": "code",
   "execution_count": null,
   "metadata": {},
   "outputs": [],
   "source": [
    "stud = ['Hanna', 'Ben', 'Rowan', 'Alice', 'David', 'Chris']\n",
    "marks = {'Alice' : [4, 5, 5, 3, 5], \n",
    "         'Jane' : [3, 2, 4, 3, 4],\n",
    "         'Ben' : [5, 5, 4, 4, 5], \n",
    "         'Hanna' : [4, 5, 5, 5, 5],\n",
    "         'Sam' : [3, 2, 2, 3, 4],\n",
    "         'Rowan' : [5, 5, 5, 5, 5],\n",
    "         'Terry': [5, 4, 3, 3, 3], \n",
    "         'David' : [5, 4, 4, 4, 4],\n",
    "         'Chris' : [5, 3, 3, 3, 4], \n",
    "         'Fred' : [3, 3, 4, 4, 5]}"
   ]
  },
  {
   "cell_type": "markdown",
   "metadata": {},
   "source": [
    "a. Напишите код, который сохраняет в новый список `selected` кортежи с оценками тех студентов, которых собираются отправить на конкурс."
   ]
  },
  {
   "cell_type": "code",
   "execution_count": null,
   "metadata": {},
   "outputs": [],
   "source": [
    "### YOUR CODE HERE ###"
   ]
  },
  {
   "cell_type": "markdown",
   "metadata": {},
   "source": [
    "b. Напишите код, который сохраняет в новый список `selected2` списки со средней и максимальной оценкой каждого студента, которого собираются отправить на конкурс. Использовать готовые функции Python для нахождения среднего и максимума разрешается."
   ]
  },
  {
   "cell_type": "code",
   "execution_count": null,
   "metadata": {},
   "outputs": [],
   "source": [
    "### YOUR CODE HERE ###"
   ]
  },
  {
   "cell_type": "markdown",
   "metadata": {},
   "source": [
    "### Задача 6 (1 балл)\n",
    "\n",
    "Напишите функцию `numbers()`, которая принимает на вход целое положительное число и возвращает сумму чисел от 1 до этого числа включительно.\n",
    "\n",
    "**Пример работы функции**: \n",
    "\n",
    "    numbers(4)\n",
    "\n",
    "    10"
   ]
  },
  {
   "cell_type": "code",
   "execution_count": null,
   "metadata": {},
   "outputs": [],
   "source": [
    "### YOUR CODE HERE ###"
   ]
  },
  {
   "cell_type": "markdown",
   "metadata": {},
   "source": [
    "### Задача 7 (1 балл)\n",
    "\n",
    "Напишите функцию `just_fun()`, которая запрашивает у пользователя информацию с клавиатуры (два значения через дефис) и в зависимости от того, что было введено, выводит на экран разные сообщения. Функция не должна ничего возвращать.\n",
    "\n",
    "Правила:\n",
    "\n",
    "* На первом месте пользователь указывает город, где он сейчас находится; на втором месте — куда он хочет уехать.\n",
    "\n",
    "* Если пользователь находится в некотором городе и хочет уехать в него же, на экран выводится сообщение `Молодец! Изолируйся.`, если место отправки и место назначения отличаются, выводится сообщение `Хорошо подумай.`.\n",
    "\n",
    "**Пример 1**:\n",
    "\n",
    "    Ввод: Москва-Москва\n",
    "    Вывод: Молодец! Изолируйся.\n",
    "\n",
    "**Пример 2**:\n",
    "\n",
    "    Ввод: Москва-Любляна\n",
    "    Вывод: Хорошо подумай."
   ]
  },
  {
   "cell_type": "code",
   "execution_count": null,
   "metadata": {},
   "outputs": [],
   "source": [
    "### YOUR CODE HERE ###"
   ]
  },
  {
   "cell_type": "markdown",
   "metadata": {},
   "source": [
    "### Задача 8 (2 балла)\n",
    "\n",
    "Решите задачу 7, но с дополнительным правилом:\n",
    "    \n",
    "Если пользователь ввел одно и то же слово, но в разных регистрах, ему выводится сообщение `Молодец! Но следи за клавиатурой.`."
   ]
  },
  {
   "cell_type": "code",
   "execution_count": null,
   "metadata": {},
   "outputs": [],
   "source": [
    "### YOUR CODE HERE ###"
   ]
  },
  {
   "cell_type": "markdown",
   "metadata": {},
   "source": [
    "## Часть 2: библиотека `pandas` (15 баллов)\n",
    "\n",
    "В этом блоке вам предлагается поработать с данными из файла `stars.csv`, который содержит характеристики звезд. Показатели в файле:\n",
    "\n",
    "* `Temperature (K)`: температура звезды по Кельвину;\n",
    "* `Luminosity(L/Lo)`: светимость звезды в единицах светимости Солнца;\n",
    "* `Radius(R/Ro)`: радиус звезды по отношению к Солнцу;\n",
    "* `Absolute magnitude(Mv)`: абсолютная звездная величина;\n",
    "* `Star type`: тип звезды (0 — коричневый карлик, 1 — красный карлик, \n",
    "2 — белый карлик, 3 — звезда главной последовательности, 4 — супергигант, 5 — гипергигант);\n",
    "* `Star color`: цвет звезды;\n",
    "* `Spectral Class`: спектральный класс звезды.\n",
    "\n",
    "Если в датафрейме есть строки с пропущенными значениями, удалять их не нужно."
   ]
  },
  {
   "cell_type": "markdown",
   "metadata": {},
   "source": [
    "### Задача 1 (1 балл)\n",
    "\n",
    "Загрузите данные из файла `stars.csv` в датафрейм `stars`."
   ]
  },
  {
   "cell_type": "code",
   "execution_count": null,
   "metadata": {},
   "outputs": [],
   "source": [
    "### YOUR CODE HERE ###"
   ]
  },
  {
   "cell_type": "markdown",
   "metadata": {},
   "source": [
    "### Задача 2 (1 балл)\n",
    "\n",
    "Выведите на экран описательные статистики по всем числовым столбцам в датафрейме `stars`."
   ]
  },
  {
   "cell_type": "code",
   "execution_count": null,
   "metadata": {},
   "outputs": [],
   "source": [
    "### YOUR CODE HERE ###"
   ]
  },
  {
   "cell_type": "markdown",
   "metadata": {},
   "source": [
    "### Задача 3 (1 балл)\n",
    "\n",
    "Добавьте в датафрейм столбец `LogLum`, который содержит логарифмированные значения светимости звезды `Luminosity(L/Lo)` (натуральный логарифм)."
   ]
  },
  {
   "cell_type": "code",
   "execution_count": null,
   "metadata": {},
   "outputs": [],
   "source": [
    "### YOUR CODE HERE ###"
   ]
  },
  {
   "cell_type": "markdown",
   "metadata": {},
   "source": [
    "### Задача 4 (1 балл)\n",
    "\n",
    "Добавьте в датафрейм столбец `WhiteDwarf`, который содержит значения 0 и 1, считая, что 1 ставится в случае, если звезда является белым карликом."
   ]
  },
  {
   "cell_type": "code",
   "execution_count": null,
   "metadata": {},
   "outputs": [],
   "source": [
    "### YOUR CODE HERE ###"
   ]
  },
  {
   "cell_type": "markdown",
   "metadata": {},
   "source": [
    "### Задача 5 (1 балл)\n",
    "\n",
    "Добавьте в датафрейм `stars` столбец `TempF`, который содержит значения температуры звезды по Фаренгейту. Для справки: 1 градус по Фаренгейту равен 255.93 градусам по Кельвину."
   ]
  },
  {
   "cell_type": "code",
   "execution_count": null,
   "metadata": {},
   "outputs": [],
   "source": [
    "### YOUR CODE HERE ###"
   ]
  },
  {
   "cell_type": "markdown",
   "metadata": {},
   "source": [
    "### Задача 6 (2 балла)\n",
    "\n",
    "Добавьте в датафрейм `stars` столбец `Color`, который содержит следующие значения:\n",
    "\n",
    "* `Red`: если в цвете звезды встречается слово *Red* (*Red-white*, например, тоже сюда относятся, и *Red* с пробелом тоже);\n",
    "* `Blue`: если в цвете звезды встречается слово *Blue* (та же ситуация, что и выше);\n",
    "* `Other`: иначе. "
   ]
  },
  {
   "cell_type": "code",
   "execution_count": null,
   "metadata": {},
   "outputs": [],
   "source": [
    "### YOUR CODE HERE ###"
   ]
  },
  {
   "cell_type": "markdown",
   "metadata": {},
   "source": [
    "### Задача 7 (1 балл)\n",
    "\n",
    "Сохраните строки, соответствующие звездам с абсолютной звездной величиной (`Absolute magnitude (Mv)`) меньше 0, в датафрейм `low`."
   ]
  },
  {
   "cell_type": "code",
   "execution_count": null,
   "metadata": {},
   "outputs": [],
   "source": [
    "### YOUR CODE HERE ###"
   ]
  },
  {
   "cell_type": "markdown",
   "metadata": {},
   "source": [
    "### Задача 8 (1 балл)\n",
    "\n",
    "Сохраните строки, соответствующие звездам спектрального класса `O` или `M`, в датафрейм `stars_sm`. "
   ]
  },
  {
   "cell_type": "code",
   "execution_count": null,
   "metadata": {},
   "outputs": [],
   "source": [
    "### YOUR CODE HERE ###"
   ]
  },
  {
   "cell_type": "markdown",
   "metadata": {},
   "source": [
    "### Задача 9 (2 балла)\n",
    "\n",
    "Выберите строки, соответствующие звездам, которые являются супергигантами или гипергигантами с температурой не менее 9000 кельвинов. Сохраните их в датафрейм `stars_new`."
   ]
  },
  {
   "cell_type": "code",
   "execution_count": null,
   "metadata": {},
   "outputs": [],
   "source": [
    "### YOUR CODE HERE ###"
   ]
  },
  {
   "cell_type": "markdown",
   "metadata": {},
   "source": [
    "### Задача 10 (1 балл)\n",
    "\n",
    "Сгруппируйте строки по значениям столбца `Color` и выведите для каждой группы минимальное и среднее значение радиуса звезды."
   ]
  },
  {
   "cell_type": "code",
   "execution_count": null,
   "metadata": {},
   "outputs": [],
   "source": [
    "### YOUR CODE HERE ###"
   ]
  },
  {
   "cell_type": "markdown",
   "metadata": {},
   "source": [
    "### Задача 11 (2 балла)\n",
    "\n",
    "Сгруппируйте строки по значениям столбца `Star type` и выведите для каждой группы число звезд в каждой группе, а также процент таких звезд от общего числа наблюдений в базе."
   ]
  },
  {
   "cell_type": "code",
   "execution_count": null,
   "metadata": {},
   "outputs": [],
   "source": [
    "### YOUR CODE HERE ###"
   ]
  },
  {
   "cell_type": "markdown",
   "metadata": {},
   "source": [
    "### Задача 12 (1 балл)\n",
    "\n",
    "Постройте гистограмму для столбца `Luminosity(L/Lo)`. Измените цвет гистограммы."
   ]
  },
  {
   "cell_type": "code",
   "execution_count": 2,
   "metadata": {},
   "outputs": [],
   "source": [
    "### YOUR CODE HERE ###"
   ]
  },
  {
   "cell_type": "markdown",
   "metadata": {},
   "source": [
    "## Часть 3: библиотека `NumPy` (4 балла)"
   ]
  },
  {
   "cell_type": "markdown",
   "metadata": {},
   "source": [
    "Дан массив `Test`с баллами студентов за тест."
   ]
  },
  {
   "cell_type": "code",
   "execution_count": null,
   "metadata": {},
   "outputs": [],
   "source": [
    "Test = np.array([23, 34, 56, 54, 32, 70, 72, 65])"
   ]
  },
  {
   "cell_type": "markdown",
   "metadata": {},
   "source": [
    "### Задача 1 (2 балла)\n",
    "\n",
    "Выведите на экран массив с баллами ниже 30 или выше 50."
   ]
  },
  {
   "cell_type": "code",
   "execution_count": null,
   "metadata": {},
   "outputs": [],
   "source": [
    "### YOUR CODE HERE ###"
   ]
  },
  {
   "cell_type": "markdown",
   "metadata": {},
   "source": [
    "### Задача 2 (2 балла)\n",
    "\n",
    "Получите новый массив `Test_10` с оценками в 10-балльной шкале, если известно, что оценка считается как полученный студентом балл, поделенный на максимально набранный балл и умноженный на 10."
   ]
  },
  {
   "cell_type": "code",
   "execution_count": null,
   "metadata": {},
   "outputs": [],
   "source": [
    "### YOUR CODE HERE ###"
   ]
  },
  {
   "cell_type": "markdown",
   "metadata": {},
   "source": [
    "## Часть 4*: библиотека BeautifulSoup (6 баллов)\n",
    "\n",
    "Напишите функцию `get_hse()`, которая принимает на вход ссылку на страницу преподавателя на сайте ВШЭ, а возвращает список со следующей информацией:\n",
    "\n",
    "* ФИО преподавателя;\n",
    "* языки, которыми владеет преподаватель (список);\n",
    "* научно-педагогический стаж преподавателя.\n",
    "\n",
    "Проверьте вашу функцию не менее чем на трёх страницах преподавателей, код с проверкой добавьте в текущий файл."
   ]
  },
  {
   "cell_type": "code",
   "execution_count": null,
   "metadata": {},
   "outputs": [],
   "source": [
    "### YOUR CODE HERE ###"
   ]
  }
 ],
 "metadata": {
  "kernelspec": {
   "display_name": "Python 3",
   "language": "python",
   "name": "python3"
  },
  "language_info": {
   "codemirror_mode": {
    "name": "ipython",
    "version": 3
   },
   "file_extension": ".py",
   "mimetype": "text/x-python",
   "name": "python",
   "nbconvert_exporter": "python",
   "pygments_lexer": "ipython3",
   "version": "3.7.4"
  }
 },
 "nbformat": 4,
 "nbformat_minor": 2
}
