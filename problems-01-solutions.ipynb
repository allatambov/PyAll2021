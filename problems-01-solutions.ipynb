{
 "cells": [
  {
   "cell_type": "markdown",
   "metadata": {},
   "source": [
    "# Программирование для всех (основы работы в Python)\n",
    "\n",
    "*Алла Тамбовцева, НИУ ВШЭ*\n",
    "\n",
    "## Набор задач 1 по темам: вычисления в Python, переменные"
   ]
  },
  {
   "cell_type": "markdown",
   "metadata": {},
   "source": [
    "### Задача 1\n",
    "\n",
    "Посчитайте:\n",
    "\n",
    "* $12^{34}$;\n",
    "* $\\log(25)$, $\\log_{10}(1000)$, $\\log_{25}(15625)$;\n",
    "* $\\sqrt{459}$ + $\\sqrt{45}$."
   ]
  },
  {
   "cell_type": "code",
   "execution_count": 1,
   "metadata": {},
   "outputs": [
    {
     "name": "stdout",
     "output_type": "stream",
     "text": [
      "4922235242952026704037113243122008064\n"
     ]
    }
   ],
   "source": [
    "# 1\n",
    "\n",
    "print(12 ** 34)"
   ]
  },
  {
   "cell_type": "code",
   "execution_count": 2,
   "metadata": {},
   "outputs": [
    {
     "name": "stdout",
     "output_type": "stream",
     "text": [
      "3.2188758248682006\n",
      "2.9999999999999996\n",
      "3.0\n",
      "3.0000000000000004\n"
     ]
    }
   ],
   "source": [
    "# 2\n",
    "\n",
    "import math\n",
    "\n",
    "print(math.log(25))\n",
    "print(math.log(1000, 10))\n",
    "print(math.log10(1000)) # более точный ответ\n",
    "print(math.log(15625, 25))"
   ]
  },
  {
   "cell_type": "code",
   "execution_count": 3,
   "metadata": {},
   "outputs": [
    {
     "name": "stdout",
     "output_type": "stream",
     "text": [
      "28.13248921812792\n"
     ]
    }
   ],
   "source": [
    "# 3\n",
    "\n",
    "print(math.sqrt(459) + math.sqrt(45))"
   ]
  },
  {
   "cell_type": "markdown",
   "metadata": {},
   "source": [
    "Альтернативный вариант: импортировать из `math` функции, необходимые для задания, и вызывать их явно, не обращаясь к модулю `math`:"
   ]
  },
  {
   "cell_type": "code",
   "execution_count": 4,
   "metadata": {},
   "outputs": [
    {
     "name": "stdout",
     "output_type": "stream",
     "text": [
      "3.2188758248682006\n",
      "3.0\n",
      "3.0000000000000004\n",
      "28.13248921812792\n"
     ]
    }
   ],
   "source": [
    "# 2 и 3\n",
    "\n",
    "from math import log, log10, sqrt\n",
    "\n",
    "print(log(25))\n",
    "print(log10(1000))\n",
    "print(log(15625, 25))\n",
    "print(sqrt(459) + sqrt(45))"
   ]
  },
  {
   "cell_type": "markdown",
   "metadata": {},
   "source": [
    "### Задача 2\n",
    "\n",
    "В переменных `a` и `b` хранятся некоторые числа. Напишите код, который бы менял значения переменных местами. Создавать вспомогательные переменные можно.\n",
    "\n",
    "**Пример:**"
   ]
  },
  {
   "cell_type": "code",
   "execution_count": 5,
   "metadata": {},
   "outputs": [],
   "source": [
    "# до\n",
    "a = 2\n",
    "b = 5"
   ]
  },
  {
   "cell_type": "code",
   "execution_count": 7,
   "metadata": {},
   "outputs": [
    {
     "name": "stdout",
     "output_type": "stream",
     "text": [
      "5\n",
      "2\n"
     ]
    }
   ],
   "source": [
    "# после\n",
    "print(a)\n",
    "print(b)"
   ]
  },
  {
   "cell_type": "code",
   "execution_count": 6,
   "metadata": {},
   "outputs": [
    {
     "name": "stdout",
     "output_type": "stream",
     "text": [
      "5\n",
      "2\n"
     ]
    }
   ],
   "source": [
    "# классический вариант\n",
    "\n",
    "c = a\n",
    "a = b\n",
    "b = c\n",
    "print(a)\n",
    "print(b)"
   ]
  },
  {
   "cell_type": "code",
   "execution_count": 8,
   "metadata": {},
   "outputs": [
    {
     "name": "stdout",
     "output_type": "stream",
     "text": [
      "5\n",
      "2\n"
     ]
    }
   ],
   "source": [
    "# вариант с множественным присваиванием в Python\n",
    "# multiple assignment\n",
    "\n",
    "a = 2\n",
    "b = 5\n",
    "\n",
    "a, b = b, a\n",
    "print(a)\n",
    "print(b)"
   ]
  },
  {
   "cell_type": "markdown",
   "metadata": {},
   "source": [
    "### Задача 3\n",
    "\n",
    "Напишите программу, которая логарифмирует значение ВВП (натуральный логарифм), сохранённое в переменной `gdp`, и округляет результат до второго знака после запятой."
   ]
  },
  {
   "cell_type": "markdown",
   "metadata": {},
   "source": [
    "### Задача 4\n",
    "\n",
    "В переменной `fh` хранится значение индекса политической свободы *Freedom House*, а в переменной `p` – значение индекса *Polity IV*. Напишите программу, которая будет считать индекс *Freedom*:\n",
    "\n",
    "$$\n",
    "\\text{Freedom}=0.4⋅ \\text{Freedom House}+ 0.6⋅\\text{Polity IV}\n",
    "$$"
   ]
  },
  {
   "cell_type": "markdown",
   "metadata": {},
   "source": [
    "### Задача 5\n",
    "С приходом весны питон решил каждый день выползать погреться на солнышко. Однако он знал, что солнце весной довольно активное, и поэтому разработал такую схему: в первый день он греется одну минуту, а в каждый последующий день увеличивает время пребывания на солнце на 3 минуты. Напишите код, который позволит вычислять, сколько минут питон будет тратить на солнечные ванны в некоторый выбранный день.\n",
    "\n",
    "Внимание: ваш код должен выводить номер дня и число минут. Использовать циклы нельзя, в задании предполагается многократный запуск ячеек с кодом.\n",
    "\n",
    "Если хочется избежать многократного запуска ячейки с кодом (что оправдано), попробуйте решить эту задачу без повторного запуска ячейки и при этом без цикла, предполагая, что пользователь с клавиатуры вводит номер интересующего его дня, а на экран выводится соответствующее число минут."
   ]
  }
 ],
 "metadata": {
  "kernelspec": {
   "display_name": "Python 3",
   "language": "python",
   "name": "python3"
  },
  "language_info": {
   "codemirror_mode": {
    "name": "ipython",
    "version": 3
   },
   "file_extension": ".py",
   "mimetype": "text/x-python",
   "name": "python",
   "nbconvert_exporter": "python",
   "pygments_lexer": "ipython3",
   "version": "3.7.4"
  }
 },
 "nbformat": 4,
 "nbformat_minor": 2
}
