{
 "cells": [
  {
   "cell_type": "markdown",
   "metadata": {},
   "source": [
    "# Программирование для всех (основы работы с Python)\n",
    "\n",
    "*Алла Тамбовцева, НИУ ВШЭ*\n",
    "\n",
    "## Набор задач 4: условные конструкции и цикл `while`"
   ]
  },
  {
   "cell_type": "markdown",
   "metadata": {},
   "source": [
    "### Задача 1\n",
    "Напишите программу, которая просит пользователя ввести положительное число, и если пользователь вводит положительное число, выводит на экран сообщение \"Молодец!\", если нет – сообщение \"Это не положительное число.\".\n",
    "\n",
    "Считайте, что пользователь в любом случае вводит числа, а не какой-то текст."
   ]
  },
  {
   "cell_type": "code",
   "execution_count": 1,
   "metadata": {},
   "outputs": [
    {
     "name": "stdout",
     "output_type": "stream",
     "text": [
      "Введите положительное число: 0\n",
      "Это не положительное число.\n"
     ]
    }
   ],
   "source": [
    "x = float(input(\"Введите положительное число: \"))\n",
    "\n",
    "if x > 0:\n",
    "    print(\"Молодец!\")\n",
    "else:\n",
    "    print(\"Это не положительное число.\")"
   ]
  },
  {
   "cell_type": "markdown",
   "metadata": {},
   "source": [
    "### Задача 2\n",
    "\n",
    "Пользователь вводит с клавиатуры два числа через пробел. Напишите код, который возвращает максимальное из двух введенных значений. \n",
    "\n",
    "**Пример:**\n",
    "\n",
    "Ввод: \n",
    "\n",
    "    Введите два числа: 5.7 8\n",
    "    \n",
    "Вывод: \n",
    "\n",
    "    8"
   ]
  },
  {
   "cell_type": "code",
   "execution_count": 2,
   "metadata": {},
   "outputs": [
    {
     "name": "stdout",
     "output_type": "stream",
     "text": [
      "Введите два числа: 5.6 9\n",
      "9.0\n"
     ]
    }
   ],
   "source": [
    "inp = input(\"Введите два числа: \")\n",
    "parts = inp.split()\n",
    "\n",
    "nums = []\n",
    "for p in parts:\n",
    "    nums.append(float(p))\n",
    "    \n",
    "if nums[0] > nums[1]:\n",
    "    print(nums[0])\n",
    "else:\n",
    "    print(nums[1])"
   ]
  },
  {
   "cell_type": "code",
   "execution_count": 3,
   "metadata": {},
   "outputs": [
    {
     "name": "stdout",
     "output_type": "stream",
     "text": [
      "Введите два числа: 5 9\n",
      "9.0\n"
     ]
    }
   ],
   "source": [
    "# вариант с множественным присваиванием\n",
    "\n",
    "inp = input(\"Введите два числа: \")\n",
    "parts = inp.split()\n",
    "\n",
    "nums = []\n",
    "for p in parts:\n",
    "    nums.append(float(p))\n",
    "    \n",
    "n1, n2 = nums\n",
    "\n",
    "if n1 > n2:\n",
    "    print(n1)\n",
    "else:\n",
    "    print(n2)"
   ]
  },
  {
   "cell_type": "markdown",
   "metadata": {},
   "source": [
    "### Задача 3\n",
    "\n",
    "Дан список `N` из целых чисел. Напишите код, который делает следующее: выводит каждый элемент списка на экран и для каждого элемента либо выводит комментарий \"Это четное число\", либо комментарии \"Это нечетное число\".\n",
    "\n",
    "*Подсказка:* оператор для нахождения остатка от деления – это `%`."
   ]
  },
  {
   "cell_type": "code",
   "execution_count": 4,
   "metadata": {},
   "outputs": [
    {
     "name": "stdout",
     "output_type": "stream",
     "text": [
      "0 Это четное число\n",
      "-1 Это нечетное число\n",
      "5 Это нечетное число\n",
      "7 Это нечетное число\n",
      "8 Это четное число\n",
      "3 Это нечетное число\n",
      "4 Это четное число\n",
      "5 Это нечетное число\n",
      "-2 Это четное число\n"
     ]
    }
   ],
   "source": [
    "N = [0, -1, 5, 7, 8, 3, 4, 5, -2]\n",
    "\n",
    "for i in N:\n",
    "    if i % 2 == 0:\n",
    "        print(i, \"Это четное число\")\n",
    "    else:\n",
    "        print(i, \"Это нечетное число\")"
   ]
  },
  {
   "cell_type": "markdown",
   "metadata": {},
   "source": [
    "### Задача 4\n",
    "\n",
    "У питона есть набор любимых чисел.\n",
    "\n",
    "    favorites = [3, 7, 11, 23, 18, 48, 81]\n",
    "\n",
    "Напишите программу, которая просит пользователя ввести целое число, и если оно нравится питону, на экран будет выводиться сообщение: \"Мое любимое число!\", если нет ‒ \"Эх, ну почему?\"."
   ]
  },
  {
   "cell_type": "code",
   "execution_count": 6,
   "metadata": {},
   "outputs": [
    {
     "name": "stdout",
     "output_type": "stream",
     "text": [
      "Введите целое число: 7\n",
      "Мое любимое число!\n"
     ]
    }
   ],
   "source": [
    "favorites = [3, 7, 11, 23, 18, 48, 81]\n",
    "\n",
    "f = int(input(\"Введите целое число: \"))\n",
    "\n",
    "if f in favorites:\n",
    "    print(\"Мое любимое число!\")\n",
    "else:\n",
    "    print(\"Эх, ну почему?\")"
   ]
  },
  {
   "cell_type": "markdown",
   "metadata": {},
   "source": [
    "### Задача 5\n",
    "Напишите программу, которая запрашивает у пользователя пароль, и далее:\n",
    "\n",
    "* если пароль верный, выводит на экран сообщение \"Login success\".\n",
    "* если пароль неверный, выводит на экран сообщение \"Incorrect password, try again!\" до тех пор, пока пользователь не введет верный пароль."
   ]
  }
 ],
 "metadata": {
  "kernelspec": {
   "display_name": "Python 3",
   "language": "python",
   "name": "python3"
  },
  "language_info": {
   "codemirror_mode": {
    "name": "ipython",
    "version": 3
   },
   "file_extension": ".py",
   "mimetype": "text/x-python",
   "name": "python",
   "nbconvert_exporter": "python",
   "pygments_lexer": "ipython3",
   "version": "3.7.4"
  }
 },
 "nbformat": 4,
 "nbformat_minor": 2
}
