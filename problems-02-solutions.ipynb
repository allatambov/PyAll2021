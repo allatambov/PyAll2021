{
 "cells": [
  {
   "cell_type": "markdown",
   "metadata": {},
   "source": [
    "# Программирование для всех (основы работы в Python)\n",
    "\n",
    "*Алла Тамбовцева, НИУ ВШЭ*\n",
    "\n",
    "## Набор задач 2 по темам: ввод и вывод, преобразование типов"
   ]
  },
  {
   "cell_type": "markdown",
   "metadata": {},
   "source": [
    "### Задача 1\n",
    "\n",
    "Напишите программу, которая запрашивает у пользователя имя и фамилию с новой строки и выводит на экран сообщение:\n",
    "\n",
    "    Имя Фамилия, добро пожаловать!"
   ]
  },
  {
   "cell_type": "code",
   "execution_count": 1,
   "metadata": {},
   "outputs": [
    {
     "name": "stdout",
     "output_type": "stream",
     "text": [
      "Введите имя: Алла\n",
      "Введите фамилию:Т\n",
      "Алла Т, добро пожаловать!\n"
     ]
    }
   ],
   "source": [
    "# вариант 1\n",
    "\n",
    "name = input(\"Введите имя: \")\n",
    "surname = input(\"Введите фамилию:\")\n",
    "\n",
    "print(name + \" \" + surname + \", добро пожаловать!\")"
   ]
  },
  {
   "cell_type": "code",
   "execution_count": 3,
   "metadata": {},
   "outputs": [
    {
     "name": "stdout",
     "output_type": "stream",
     "text": [
      "Введите имя: Алла\n",
      "Введите фамилию:Т\n",
      "Алла Т, добро пожаловать!\n"
     ]
    }
   ],
   "source": [
    "# вариант 2\n",
    "\n",
    "name = input(\"Введите имя: \")\n",
    "surname = input(\"Введите фамилию:\")\n",
    "\n",
    "print(name, \" \", surname, \", добро пожаловать!\", sep = \"\")"
   ]
  },
  {
   "cell_type": "markdown",
   "metadata": {},
   "source": [
    "### Задача 2\n",
    "\n",
    "Напишите программу, которая запрашивает у пользователя год рождения и возвращает число лет, которое ему исполнилось или исполнится в текущем 2021 году."
   ]
  },
  {
   "cell_type": "code",
   "execution_count": 4,
   "metadata": {},
   "outputs": [
    {
     "name": "stdout",
     "output_type": "stream",
     "text": [
      "Введите год рождения: 1994\n",
      "27\n"
     ]
    }
   ],
   "source": [
    "b_year = int(input(\"Введите год рождения: \"))\n",
    "print(2021 - b_year)"
   ]
  },
  {
   "cell_type": "markdown",
   "metadata": {},
   "source": [
    "### Задача 3\n",
    "\n",
    "Напишите программу, которая запрашивает у пользователя с клавиатуры его рост в сантиметрах, его вес в килограммах (каждый показатель – с новой строки, в новом запросе) и выводит на экран сообщение вида:\n",
    "\n",
    "    Индекс массы тела: [значение].\n",
    "\n",
    "где вместо `[значение]` подставляется посчитанное значение индекса массы тела.\n",
    "\n",
    "Индекс массы тела считается так:\n",
    "\n",
    "$$\n",
    "BMI=m/h^2,\n",
    "$$\n",
    "\n",
    "где $m$ – масса тела в килограммах, $h$ – рост в метрах."
   ]
  },
  {
   "cell_type": "code",
   "execution_count": 5,
   "metadata": {},
   "outputs": [
    {
     "name": "stdout",
     "output_type": "stream",
     "text": [
      "Ваш рост (в см): 168\n",
      "Ваш вес (в кг): 60\n",
      "Индекс массы тела: 21.258503401360546.\n"
     ]
    }
   ],
   "source": [
    "# вариант 1\n",
    "\n",
    "height = float(input(\"Ваш рост (в см): \"))\n",
    "weight = float(input(\"Ваш вес (в кг): \"))\n",
    "bmi = weight / (height / 100) ** 2\n",
    "\n",
    "print(\"Индекс массы тела: \", bmi, \".\", sep = \"\")"
   ]
  },
  {
   "cell_type": "code",
   "execution_count": 7,
   "metadata": {},
   "outputs": [
    {
     "name": "stdout",
     "output_type": "stream",
     "text": [
      "Ваш рост (в см): 168\n",
      "Ваш вес (в кг): 60\n",
      "Индекс массы тела: 21.258503401360546.\n"
     ]
    }
   ],
   "source": [
    "# вариант 2 - f-strings\n",
    "\n",
    "height = float(input(\"Ваш рост (в см): \"))\n",
    "weight = float(input(\"Ваш вес (в кг): \"))\n",
    "bmi = weight / (height / 100) ** 2\n",
    "\n",
    "print(f\"Индекс массы тела: {bmi}.\")"
   ]
  },
  {
   "cell_type": "code",
   "execution_count": 8,
   "metadata": {},
   "outputs": [
    {
     "name": "stdout",
     "output_type": "stream",
     "text": [
      "Ваш рост (в см): 168\n",
      "Ваш вес (в кг): 60\n",
      "Индекс массы тела: 21.26.\n"
     ]
    }
   ],
   "source": [
    "# вариант 3 – если хотим округлить до 2 знака\n",
    "\n",
    "height = float(input(\"Ваш рост (в см): \"))\n",
    "weight = float(input(\"Ваш вес (в кг): \"))\n",
    "bmi = weight / (height / 100) ** 2\n",
    "\n",
    "print(f\"Индекс массы тела: {round(bmi, 2)}.\")"
   ]
  }
 ],
 "metadata": {
  "kernelspec": {
   "display_name": "Python 3",
   "language": "python",
   "name": "python3"
  },
  "language_info": {
   "codemirror_mode": {
    "name": "ipython",
    "version": 3
   },
   "file_extension": ".py",
   "mimetype": "text/x-python",
   "name": "python",
   "nbconvert_exporter": "python",
   "pygments_lexer": "ipython3",
   "version": "3.7.4"
  }
 },
 "nbformat": 4,
 "nbformat_minor": 2
}
